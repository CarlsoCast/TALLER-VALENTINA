{
 "cells": [
  {
   "cell_type": "markdown",
   "metadata": {},
   "source": [
    "UNIDAD 10 - Dataframes con pandas   "
   ]
  },
  {
   "cell_type": "markdown",
   "metadata": {},
   "source": [
    "1. Cargue el dataset"
   ]
  },
  {
   "cell_type": "code",
   "execution_count": 112,
   "metadata": {},
   "outputs": [
    {
     "data": {
      "text/html": [
       "<div>\n",
       "<style scoped>\n",
       "    .dataframe tbody tr th:only-of-type {\n",
       "        vertical-align: middle;\n",
       "    }\n",
       "\n",
       "    .dataframe tbody tr th {\n",
       "        vertical-align: top;\n",
       "    }\n",
       "\n",
       "    .dataframe thead th {\n",
       "        text-align: right;\n",
       "    }\n",
       "</style>\n",
       "<table border=\"1\" class=\"dataframe\">\n",
       "  <thead>\n",
       "    <tr style=\"text-align: right;\">\n",
       "      <th></th>\n",
       "      <th>valor</th>\n",
       "      <th>unidad</th>\n",
       "      <th>vigenciadesde</th>\n",
       "      <th>vigenciahasta</th>\n",
       "    </tr>\n",
       "  </thead>\n",
       "  <tbody>\n",
       "    <tr>\n",
       "      <th>0</th>\n",
       "      <td>4761.64</td>\n",
       "      <td>COP</td>\n",
       "      <td>2022-12-22T00:00:00.000</td>\n",
       "      <td>2022-12-22T00:00:00.000</td>\n",
       "    </tr>\n",
       "    <tr>\n",
       "      <th>1</th>\n",
       "      <td>4781.28</td>\n",
       "      <td>COP</td>\n",
       "      <td>2022-12-20T00:00:00.000</td>\n",
       "      <td>2022-12-20T00:00:00.000</td>\n",
       "    </tr>\n",
       "    <tr>\n",
       "      <th>2</th>\n",
       "      <td>4802.48</td>\n",
       "      <td>COP</td>\n",
       "      <td>2022-12-17T00:00:00.000</td>\n",
       "      <td>2022-12-19T00:00:00.000</td>\n",
       "    </tr>\n",
       "    <tr>\n",
       "      <th>3</th>\n",
       "      <td>4836.24</td>\n",
       "      <td>COP</td>\n",
       "      <td>2022-12-13T00:00:00.000</td>\n",
       "      <td>2022-12-13T00:00:00.000</td>\n",
       "    </tr>\n",
       "    <tr>\n",
       "      <th>4</th>\n",
       "      <td>4815.99</td>\n",
       "      <td>COP</td>\n",
       "      <td>2022-12-10T00:00:00.000</td>\n",
       "      <td>2022-12-12T00:00:00.000</td>\n",
       "    </tr>\n",
       "  </tbody>\n",
       "</table>\n",
       "</div>"
      ],
      "text/plain": [
       "     valor unidad            vigenciadesde            vigenciahasta\n",
       "0  4761.64    COP  2022-12-22T00:00:00.000  2022-12-22T00:00:00.000\n",
       "1  4781.28    COP  2022-12-20T00:00:00.000  2022-12-20T00:00:00.000\n",
       "2  4802.48    COP  2022-12-17T00:00:00.000  2022-12-19T00:00:00.000\n",
       "3  4836.24    COP  2022-12-13T00:00:00.000  2022-12-13T00:00:00.000\n",
       "4  4815.99    COP  2022-12-10T00:00:00.000  2022-12-12T00:00:00.000"
      ]
     },
     "execution_count": 112,
     "metadata": {},
     "output_type": "execute_result"
    }
   ],
   "source": [
    "import pandas as pandas\n",
    "df = pandas.read_json(\"https://www.datos.gov.co/resource/32sa-8pi3.json\")\n",
    "df.head() #Ver la data"
   ]
  },
  {
   "cell_type": "code",
   "execution_count": 113,
   "metadata": {},
   "outputs": [
    {
     "name": "stdout",
     "output_type": "stream",
     "text": [
      "<class 'pandas.core.frame.DataFrame'>\n",
      "RangeIndex: 1000 entries, 0 to 999\n",
      "Data columns (total 4 columns):\n",
      " #   Column         Non-Null Count  Dtype  \n",
      "---  ------         --------------  -----  \n",
      " 0   valor          1000 non-null   float64\n",
      " 1   unidad         1000 non-null   object \n",
      " 2   vigenciadesde  1000 non-null   object \n",
      " 3   vigenciahasta  1000 non-null   object \n",
      "dtypes: float64(1), object(3)\n",
      "memory usage: 31.4+ KB\n"
     ]
    }
   ],
   "source": [
    "df.info() # "
   ]
  },
  {
   "cell_type": "markdown",
   "metadata": {},
   "source": [
    "Como se puede analizar solo la columna valor es de tipo numérico, es por ello que los calculos solo se realizarán sobre ella"
   ]
  },
  {
   "cell_type": "markdown",
   "metadata": {},
   "source": [
    "2. Calculos\n",
    "\n",
    "Para realizar este ejercicio se utilizan los módulos incluidos en pandas como \"mean\", \"max\" y \"std\" entre otros. Notar que selecciona la columna valor, de no ser así arroja un error ya que el resto de la información no es numérica"
   ]
  },
  {
   "cell_type": "markdown",
   "metadata": {},
   "source": [
    "3. Presentar el resumen de los datos numéricos"
   ]
  },
  {
   "cell_type": "code",
   "execution_count": 114,
   "metadata": {},
   "outputs": [
    {
     "name": "stdout",
     "output_type": "stream",
     "text": [
      "Resumen de calculos\n",
      "La media de la columna valor es: 3042.377\n",
      "La mediana de la columna valor es: 2972.525\n",
      "La desviación estandar de la columna valor es: 730.689\n",
      "El máximo de la media para la columna valor es: 5061.21\n",
      "El mínimo de la columna valor es: 1846.12\n",
      "El rango de la columna valor es: 3215.09\n"
     ]
    }
   ],
   "source": [
    "print(\"Resumen de calculos\")\n",
    "print(\"La media de la columna valor es: \"+str(df[\"valor\"].mean().__round__(3))) \n",
    "print(\"La mediana de la columna valor es: \"+str(df[\"valor\"].median().__round__(3)))\n",
    "print(\"La desviación estandar de la columna valor es: \"+str(df[\"valor\"].std().__round__(3)))\n",
    "print(\"El máximo de la media para la columna valor es: \"+str(df[\"valor\"].max().__round__(3)))\n",
    "print(\"El mínimo de la columna valor es: \"+str(df[\"valor\"].min().__round__(3)))\n",
    "print(\"El rango de la columna valor es: \"+str((df[\"valor\"].max()-df[\"valor\"].min()).__round__(3)))"
   ]
  },
  {
   "cell_type": "markdown",
   "metadata": {},
   "source": [
    "4 Información general del dataset"
   ]
  },
  {
   "cell_type": "code",
   "execution_count": 115,
   "metadata": {},
   "outputs": [
    {
     "data": {
      "text/html": [
       "<div>\n",
       "<style scoped>\n",
       "    .dataframe tbody tr th:only-of-type {\n",
       "        vertical-align: middle;\n",
       "    }\n",
       "\n",
       "    .dataframe tbody tr th {\n",
       "        vertical-align: top;\n",
       "    }\n",
       "\n",
       "    .dataframe thead th {\n",
       "        text-align: right;\n",
       "    }\n",
       "</style>\n",
       "<table border=\"1\" class=\"dataframe\">\n",
       "  <thead>\n",
       "    <tr style=\"text-align: right;\">\n",
       "      <th></th>\n",
       "      <th>valor</th>\n",
       "    </tr>\n",
       "  </thead>\n",
       "  <tbody>\n",
       "    <tr>\n",
       "      <th>count</th>\n",
       "      <td>1000.000000</td>\n",
       "    </tr>\n",
       "    <tr>\n",
       "      <th>mean</th>\n",
       "      <td>3042.376510</td>\n",
       "    </tr>\n",
       "    <tr>\n",
       "      <th>std</th>\n",
       "      <td>730.689006</td>\n",
       "    </tr>\n",
       "    <tr>\n",
       "      <th>min</th>\n",
       "      <td>1846.120000</td>\n",
       "    </tr>\n",
       "    <tr>\n",
       "      <th>25%</th>\n",
       "      <td>2500.497500</td>\n",
       "    </tr>\n",
       "    <tr>\n",
       "      <th>50%</th>\n",
       "      <td>2972.525000</td>\n",
       "    </tr>\n",
       "    <tr>\n",
       "      <th>75%</th>\n",
       "      <td>3646.340000</td>\n",
       "    </tr>\n",
       "    <tr>\n",
       "      <th>max</th>\n",
       "      <td>5061.210000</td>\n",
       "    </tr>\n",
       "  </tbody>\n",
       "</table>\n",
       "</div>"
      ],
      "text/plain": [
       "             valor\n",
       "count  1000.000000\n",
       "mean   3042.376510\n",
       "std     730.689006\n",
       "min    1846.120000\n",
       "25%    2500.497500\n",
       "50%    2972.525000\n",
       "75%    3646.340000\n",
       "max    5061.210000"
      ]
     },
     "execution_count": 115,
     "metadata": {},
     "output_type": "execute_result"
    }
   ],
   "source": [
    "df.describe() #Descripción de la columna \"valor\" con el modulo \"describe\" de pandas"
   ]
  },
  {
   "cell_type": "markdown",
   "metadata": {},
   "source": [
    "5 Representaciones graficas de la información"
   ]
  }
 ],
 "metadata": {
  "kernelspec": {
   "display_name": "Python 3",
   "language": "python",
   "name": "python3"
  },
  "language_info": {
   "codemirror_mode": {
    "name": "ipython",
    "version": 3
   },
   "file_extension": ".py",
   "mimetype": "text/x-python",
   "name": "python",
   "nbconvert_exporter": "python",
   "pygments_lexer": "ipython3",
   "version": "3.9.6"
  },
  "orig_nbformat": 4
 },
 "nbformat": 4,
 "nbformat_minor": 2
}
