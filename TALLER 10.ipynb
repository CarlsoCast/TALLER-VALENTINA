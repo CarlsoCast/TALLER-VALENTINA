{
 "cells": [
  {
   "cell_type": "markdown",
   "metadata": {},
   "source": [
    "UNIDAD 10 - Dataframes con pandas   "
   ]
  },
  {
   "cell_type": "markdown",
   "metadata": {},
   "source": [
    "1. Cargue el dataset"
   ]
  },
  {
   "cell_type": "code",
   "execution_count": 1379,
   "metadata": {},
   "outputs": [
    {
     "data": {
      "text/html": [
       "<div>\n",
       "<style scoped>\n",
       "    .dataframe tbody tr th:only-of-type {\n",
       "        vertical-align: middle;\n",
       "    }\n",
       "\n",
       "    .dataframe tbody tr th {\n",
       "        vertical-align: top;\n",
       "    }\n",
       "\n",
       "    .dataframe thead th {\n",
       "        text-align: right;\n",
       "    }\n",
       "</style>\n",
       "<table border=\"1\" class=\"dataframe\">\n",
       "  <thead>\n",
       "    <tr style=\"text-align: right;\">\n",
       "      <th></th>\n",
       "      <th>valor</th>\n",
       "      <th>unidad</th>\n",
       "      <th>vigenciadesde</th>\n",
       "      <th>vigenciahasta</th>\n",
       "    </tr>\n",
       "  </thead>\n",
       "  <tbody>\n",
       "    <tr>\n",
       "      <th>0</th>\n",
       "      <td>4761.64</td>\n",
       "      <td>COP</td>\n",
       "      <td>2022-12-22T00:00:00.000</td>\n",
       "      <td>2022-12-22T00:00:00.000</td>\n",
       "    </tr>\n",
       "    <tr>\n",
       "      <th>1</th>\n",
       "      <td>4781.28</td>\n",
       "      <td>COP</td>\n",
       "      <td>2022-12-20T00:00:00.000</td>\n",
       "      <td>2022-12-20T00:00:00.000</td>\n",
       "    </tr>\n",
       "    <tr>\n",
       "      <th>2</th>\n",
       "      <td>4802.48</td>\n",
       "      <td>COP</td>\n",
       "      <td>2022-12-17T00:00:00.000</td>\n",
       "      <td>2022-12-19T00:00:00.000</td>\n",
       "    </tr>\n",
       "    <tr>\n",
       "      <th>3</th>\n",
       "      <td>4836.24</td>\n",
       "      <td>COP</td>\n",
       "      <td>2022-12-13T00:00:00.000</td>\n",
       "      <td>2022-12-13T00:00:00.000</td>\n",
       "    </tr>\n",
       "    <tr>\n",
       "      <th>4</th>\n",
       "      <td>4815.99</td>\n",
       "      <td>COP</td>\n",
       "      <td>2022-12-10T00:00:00.000</td>\n",
       "      <td>2022-12-12T00:00:00.000</td>\n",
       "    </tr>\n",
       "  </tbody>\n",
       "</table>\n",
       "</div>"
      ],
      "text/plain": [
       "     valor unidad            vigenciadesde            vigenciahasta\n",
       "0  4761.64    COP  2022-12-22T00:00:00.000  2022-12-22T00:00:00.000\n",
       "1  4781.28    COP  2022-12-20T00:00:00.000  2022-12-20T00:00:00.000\n",
       "2  4802.48    COP  2022-12-17T00:00:00.000  2022-12-19T00:00:00.000\n",
       "3  4836.24    COP  2022-12-13T00:00:00.000  2022-12-13T00:00:00.000\n",
       "4  4815.99    COP  2022-12-10T00:00:00.000  2022-12-12T00:00:00.000"
      ]
     },
     "execution_count": 1379,
     "metadata": {},
     "output_type": "execute_result"
    }
   ],
   "source": [
    "import pandas as pd\n",
    "import matplotlib\n",
    "df = pd.read_json(\"https://www.datos.gov.co/resource/32sa-8pi3.json\")\n",
    "df=df.dropna()\n",
    "df.head() #Ver la data"
   ]
  },
  {
   "cell_type": "code",
   "execution_count": 1380,
   "metadata": {},
   "outputs": [
    {
     "name": "stdout",
     "output_type": "stream",
     "text": [
      "<class 'pandas.core.frame.DataFrame'>\n",
      "RangeIndex: 1000 entries, 0 to 999\n",
      "Data columns (total 4 columns):\n",
      " #   Column         Non-Null Count  Dtype  \n",
      "---  ------         --------------  -----  \n",
      " 0   valor          1000 non-null   float64\n",
      " 1   unidad         1000 non-null   object \n",
      " 2   vigenciadesde  1000 non-null   object \n",
      " 3   vigenciahasta  1000 non-null   object \n",
      "dtypes: float64(1), object(3)\n",
      "memory usage: 31.4+ KB\n"
     ]
    }
   ],
   "source": [
    "df.info() # Analizar el data set"
   ]
  },
  {
   "cell_type": "markdown",
   "metadata": {},
   "source": [
    "Como se puede analizar solo la columna valor es de tipo numérico, es por ello que los calculos solo se realizarán sobre ella"
   ]
  },
  {
   "cell_type": "markdown",
   "metadata": {},
   "source": [
    "2. Calculos\n",
    "\n",
    "Para realizar este ejercicio se utilizan los módulos incluidos en pandas como \"mean\", \"max\" y \"std\" entre otros. Notar que se selecciona la columna valor, de no ser así arroja un error ya que el resto de la información no es numérica"
   ]
  },
  {
   "cell_type": "markdown",
   "metadata": {},
   "source": [
    "3. Presentar el resumen de los datos numéricos"
   ]
  },
  {
   "cell_type": "code",
   "execution_count": 1381,
   "metadata": {},
   "outputs": [
    {
     "name": "stdout",
     "output_type": "stream",
     "text": [
      "Resumen de calculos\n",
      "La media del TRM es: 3042.377\n",
      "La mediana del TRM es: 2972.525\n",
      "La desviación estandar de la TRM es: 730.689\n",
      "El máximo de la media para la TRM es: 5061.21\n",
      "El mínimo del TRM es: 1846.12\n",
      "El rango del TRM es: 3215.09\n"
     ]
    }
   ],
   "source": [
    "print(\"Resumen de calculos\")\n",
    "print(\"La media del TRM es: \"+str(df[\"valor\"].mean().__round__(3))) \n",
    "print(\"La mediana del TRM es: \"+str(df[\"valor\"].median().__round__(3)))\n",
    "print(\"La desviación estandar de la TRM es: \"+str(df[\"valor\"].std().__round__(3)))\n",
    "print(\"El máximo de la media para la TRM es: \"+str(df[\"valor\"].max().__round__(3)))\n",
    "print(\"El mínimo del TRM es: \"+str(df[\"valor\"].min().__round__(3)))\n",
    "print(\"El rango del TRM es: \"+str((df[\"valor\"].max()-df[\"valor\"].min()).__round__(3)))"
   ]
  },
  {
   "cell_type": "markdown",
   "metadata": {},
   "source": [
    "4 Información general del dataset"
   ]
  },
  {
   "cell_type": "code",
   "execution_count": 1382,
   "metadata": {},
   "outputs": [
    {
     "data": {
      "text/html": [
       "<div>\n",
       "<style scoped>\n",
       "    .dataframe tbody tr th:only-of-type {\n",
       "        vertical-align: middle;\n",
       "    }\n",
       "\n",
       "    .dataframe tbody tr th {\n",
       "        vertical-align: top;\n",
       "    }\n",
       "\n",
       "    .dataframe thead th {\n",
       "        text-align: right;\n",
       "    }\n",
       "</style>\n",
       "<table border=\"1\" class=\"dataframe\">\n",
       "  <thead>\n",
       "    <tr style=\"text-align: right;\">\n",
       "      <th></th>\n",
       "      <th>valor</th>\n",
       "    </tr>\n",
       "  </thead>\n",
       "  <tbody>\n",
       "    <tr>\n",
       "      <th>count</th>\n",
       "      <td>1000.000000</td>\n",
       "    </tr>\n",
       "    <tr>\n",
       "      <th>mean</th>\n",
       "      <td>3042.376510</td>\n",
       "    </tr>\n",
       "    <tr>\n",
       "      <th>std</th>\n",
       "      <td>730.689006</td>\n",
       "    </tr>\n",
       "    <tr>\n",
       "      <th>min</th>\n",
       "      <td>1846.120000</td>\n",
       "    </tr>\n",
       "    <tr>\n",
       "      <th>25%</th>\n",
       "      <td>2500.497500</td>\n",
       "    </tr>\n",
       "    <tr>\n",
       "      <th>50%</th>\n",
       "      <td>2972.525000</td>\n",
       "    </tr>\n",
       "    <tr>\n",
       "      <th>75%</th>\n",
       "      <td>3646.340000</td>\n",
       "    </tr>\n",
       "    <tr>\n",
       "      <th>max</th>\n",
       "      <td>5061.210000</td>\n",
       "    </tr>\n",
       "  </tbody>\n",
       "</table>\n",
       "</div>"
      ],
      "text/plain": [
       "             valor\n",
       "count  1000.000000\n",
       "mean   3042.376510\n",
       "std     730.689006\n",
       "min    1846.120000\n",
       "25%    2500.497500\n",
       "50%    2972.525000\n",
       "75%    3646.340000\n",
       "max    5061.210000"
      ]
     },
     "execution_count": 1382,
     "metadata": {},
     "output_type": "execute_result"
    }
   ],
   "source": [
    "df.describe() #Descripción de la columna \"valor\" con el modulo \"describe\" de pandas"
   ]
  },
  {
   "cell_type": "markdown",
   "metadata": {},
   "source": [
    "5 Representaciones graficas de la información"
   ]
  },
  {
   "cell_type": "code",
   "execution_count": 1383,
   "metadata": {},
   "outputs": [
    {
     "data": {
      "image/png": "[encoded data removed]",
      "text/plain": [
       "<Figure size 640x480 with 1 Axes>"
      ]
     },
     "metadata": {},
     "output_type": "display_data"
    }
   ],
   "source": [
    "import matplotlib.pyplot as plt\n",
    "\n",
    "data = df[\"valor\"]\n",
    "\n",
    "fig, ax = plt.subplots()\n",
    "ax.boxplot(data)\n",
    "\n",
    "ax.set_title('Box Plot de la TRM')\n",
    "ax.set_xlabel('TRM')\n",
    "ax.set_ylabel('COP')\n",
    "\n",
    "plt.show()"
   ]
  },
  {
   "cell_type": "markdown",
   "metadata": {},
   "source": [
    "Analisis"
   ]
  },
  {
   "cell_type": "code",
   "execution_count": 1384,
   "metadata": {},
   "outputs": [
    {
     "data": {
      "image/png": "[encoded data removed]",
      "text/plain": [
       "<Figure size 640x480 with 1 Axes>"
      ]
     },
     "metadata": {},
     "output_type": "display_data"
    }
   ],
   "source": [
    "data = df[\"valor\"]\n",
    "\n",
    "fig, ax = plt.subplots()\n",
    "ax.hist(data, bins=100)\n",
    "\n",
    "ax.set_title('Histograma del valor TRM')\n",
    "ax.set_xlabel('Valor en COP')\n",
    "ax.set_ylabel('Frecuencia')\n",
    "\n",
    "plt.show()"
   ]
  },
  {
   "cell_type": "markdown",
   "metadata": {},
   "source": [
    "Análisis"
   ]
  },
  {
   "cell_type": "code",
   "execution_count": 1385,
   "metadata": {},
   "outputs": [
    {
     "name": "stderr",
     "output_type": "stream",
     "text": [
      "WARNING:root:Requests made without an app_token will be subject to strict throttling limits.\n"
     ]
    },
    {
     "data": {
      "text/html": [
       "<div>\n",
       "<style scoped>\n",
       "    .dataframe tbody tr th:only-of-type {\n",
       "        vertical-align: middle;\n",
       "    }\n",
       "\n",
       "    .dataframe tbody tr th {\n",
       "        vertical-align: top;\n",
       "    }\n",
       "\n",
       "    .dataframe thead th {\n",
       "        text-align: right;\n",
       "    }\n",
       "</style>\n",
       "<table border=\"1\" class=\"dataframe\">\n",
       "  <thead>\n",
       "    <tr style=\"text-align: right;\">\n",
       "      <th></th>\n",
       "      <th>periodo</th>\n",
       "      <th>estu_tipodocumento</th>\n",
       "      <th>estu_consecutivo</th>\n",
       "      <th>cole_area_ubicacion</th>\n",
       "      <th>cole_bilingue</th>\n",
       "      <th>cole_calendario</th>\n",
       "      <th>cole_caracter</th>\n",
       "      <th>cole_cod_dane_establecimiento</th>\n",
       "      <th>cole_cod_dane_sede</th>\n",
       "      <th>cole_cod_depto_ubicacion</th>\n",
       "      <th>...</th>\n",
       "      <th>fami_tienecomputador</th>\n",
       "      <th>fami_tieneinternet</th>\n",
       "      <th>fami_tienelavadora</th>\n",
       "      <th>desemp_ingles</th>\n",
       "      <th>punt_ingles</th>\n",
       "      <th>punt_matematicas</th>\n",
       "      <th>punt_sociales_ciudadanas</th>\n",
       "      <th>punt_c_naturales</th>\n",
       "      <th>punt_lectura_critica</th>\n",
       "      <th>punt_global</th>\n",
       "    </tr>\n",
       "  </thead>\n",
       "  <tbody>\n",
       "    <tr>\n",
       "      <th>count</th>\n",
       "      <td>443</td>\n",
       "      <td>443</td>\n",
       "      <td>443</td>\n",
       "      <td>443</td>\n",
       "      <td>443</td>\n",
       "      <td>443</td>\n",
       "      <td>443</td>\n",
       "      <td>443</td>\n",
       "      <td>443</td>\n",
       "      <td>443</td>\n",
       "      <td>...</td>\n",
       "      <td>443</td>\n",
       "      <td>443</td>\n",
       "      <td>443</td>\n",
       "      <td>443</td>\n",
       "      <td>443</td>\n",
       "      <td>443</td>\n",
       "      <td>443</td>\n",
       "      <td>443</td>\n",
       "      <td>443</td>\n",
       "      <td>443</td>\n",
       "    </tr>\n",
       "    <tr>\n",
       "      <th>unique</th>\n",
       "      <td>12</td>\n",
       "      <td>3</td>\n",
       "      <td>376</td>\n",
       "      <td>2</td>\n",
       "      <td>2</td>\n",
       "      <td>3</td>\n",
       "      <td>4</td>\n",
       "      <td>361</td>\n",
       "      <td>362</td>\n",
       "      <td>29</td>\n",
       "      <td>...</td>\n",
       "      <td>2</td>\n",
       "      <td>2</td>\n",
       "      <td>2</td>\n",
       "      <td>5</td>\n",
       "      <td>57</td>\n",
       "      <td>58</td>\n",
       "      <td>52</td>\n",
       "      <td>47</td>\n",
       "      <td>47</td>\n",
       "      <td>154</td>\n",
       "    </tr>\n",
       "    <tr>\n",
       "      <th>top</th>\n",
       "      <td>20194</td>\n",
       "      <td>TI</td>\n",
       "      <td>SB11201940464873</td>\n",
       "      <td>URBANO</td>\n",
       "      <td>N</td>\n",
       "      <td>A</td>\n",
       "      <td>ACADÉMICO</td>\n",
       "      <td>141016000305</td>\n",
       "      <td>111001018058</td>\n",
       "      <td>11</td>\n",
       "      <td>...</td>\n",
       "      <td>Si</td>\n",
       "      <td>Si</td>\n",
       "      <td>Si</td>\n",
       "      <td>A-</td>\n",
       "      <td>49</td>\n",
       "      <td>47</td>\n",
       "      <td>47</td>\n",
       "      <td>43</td>\n",
       "      <td>47</td>\n",
       "      <td>185</td>\n",
       "    </tr>\n",
       "    <tr>\n",
       "      <th>freq</th>\n",
       "      <td>126</td>\n",
       "      <td>368</td>\n",
       "      <td>2</td>\n",
       "      <td>391</td>\n",
       "      <td>436</td>\n",
       "      <td>429</td>\n",
       "      <td>209</td>\n",
       "      <td>3</td>\n",
       "      <td>3</td>\n",
       "      <td>70</td>\n",
       "      <td>...</td>\n",
       "      <td>255</td>\n",
       "      <td>233</td>\n",
       "      <td>321</td>\n",
       "      <td>205</td>\n",
       "      <td>24</td>\n",
       "      <td>23</td>\n",
       "      <td>26</td>\n",
       "      <td>23</td>\n",
       "      <td>26</td>\n",
       "      <td>10</td>\n",
       "    </tr>\n",
       "  </tbody>\n",
       "</table>\n",
       "<p>4 rows × 51 columns</p>\n",
       "</div>"
      ],
      "text/plain": [
       "       periodo estu_tipodocumento  estu_consecutivo cole_area_ubicacion   \n",
       "count      443                443               443                 443  \\\n",
       "unique      12                  3               376                   2   \n",
       "top      20194                 TI  SB11201940464873              URBANO   \n",
       "freq       126                368                 2                 391   \n",
       "\n",
       "       cole_bilingue cole_calendario cole_caracter   \n",
       "count            443             443           443  \\\n",
       "unique             2               3             4   \n",
       "top                N               A     ACADÉMICO   \n",
       "freq             436             429           209   \n",
       "\n",
       "       cole_cod_dane_establecimiento cole_cod_dane_sede   \n",
       "count                            443                443  \\\n",
       "unique                           361                362   \n",
       "top                     141016000305       111001018058   \n",
       "freq                               3                  3   \n",
       "\n",
       "       cole_cod_depto_ubicacion  ... fami_tienecomputador fami_tieneinternet   \n",
       "count                       443  ...                  443                443  \\\n",
       "unique                       29  ...                    2                  2   \n",
       "top                          11  ...                   Si                 Si   \n",
       "freq                         70  ...                  255                233   \n",
       "\n",
       "       fami_tienelavadora desemp_ingles punt_ingles punt_matematicas   \n",
       "count                 443           443         443              443  \\\n",
       "unique                  2             5          57               58   \n",
       "top                    Si            A-          49               47   \n",
       "freq                  321           205          24               23   \n",
       "\n",
       "       punt_sociales_ciudadanas punt_c_naturales punt_lectura_critica   \n",
       "count                       443              443                  443  \\\n",
       "unique                       52               47                   47   \n",
       "top                          47               43                   47   \n",
       "freq                         26               23                   26   \n",
       "\n",
       "       punt_global  \n",
       "count          443  \n",
       "unique         154  \n",
       "top            185  \n",
       "freq            10  \n",
       "\n",
       "[4 rows x 51 columns]"
      ]
     },
     "execution_count": 1385,
     "metadata": {},
     "output_type": "execute_result"
    }
   ],
   "source": [
    "from sodapy import Socrata\n",
    "client = Socrata('www.datos.gov.co', None)\n",
    "results = client.get('kgxf-xxbe')\n",
    "datos = pd.DataFrame(results)\n",
    "datos=datos.dropna()\n",
    "datos.describe()"
   ]
  },
  {
   "cell_type": "markdown",
   "metadata": {},
   "source": [
    "- Comparación colegio bilingüe y puntaje inglés"
   ]
  },
  {
   "cell_type": "code",
   "execution_count": 1386,
   "metadata": {},
   "outputs": [
    {
     "data": {
      "text/html": [
       "<div>\n",
       "<style scoped>\n",
       "    .dataframe tbody tr th:only-of-type {\n",
       "        vertical-align: middle;\n",
       "    }\n",
       "\n",
       "    .dataframe tbody tr th {\n",
       "        vertical-align: top;\n",
       "    }\n",
       "\n",
       "    .dataframe thead th {\n",
       "        text-align: right;\n",
       "    }\n",
       "</style>\n",
       "<table border=\"1\" class=\"dataframe\">\n",
       "  <thead>\n",
       "    <tr style=\"text-align: right;\">\n",
       "      <th></th>\n",
       "      <th>punt_ingles</th>\n",
       "    </tr>\n",
       "    <tr>\n",
       "      <th>cole_bilingue</th>\n",
       "      <th></th>\n",
       "    </tr>\n",
       "  </thead>\n",
       "  <tbody>\n",
       "    <tr>\n",
       "      <th>N</th>\n",
       "      <td>49.646789</td>\n",
       "    </tr>\n",
       "    <tr>\n",
       "      <th>S</th>\n",
       "      <td>74.428571</td>\n",
       "    </tr>\n",
       "  </tbody>\n",
       "</table>\n",
       "</div>"
      ],
      "text/plain": [
       "              punt_ingles\n",
       "cole_bilingue            \n",
       "N               49.646789\n",
       "S               74.428571"
      ]
     },
     "execution_count": 1386,
     "metadata": {},
     "output_type": "execute_result"
    }
   ],
   "source": [
    "biling_punt_ing=datos[[\"cole_bilingue\",\"punt_ingles\"]]\n",
    "\n",
    "biling_punt_ing.loc[:,\"punt_ingles\"]=biling_punt_ing.loc[:,\"punt_ingles\"].astype(int)\n",
    "biling_punt_ing.groupby(\"cole_bilingue\").mean()"
   ]
  },
  {
   "cell_type": "markdown",
   "metadata": {},
   "source": [
    "Mirando los datos uno podría concluir que los estudiantes de colegios bilingüe tienden a un mejor puntaje en la parte de inglés"
   ]
  },
  {
   "cell_type": "code",
   "execution_count": 1387,
   "metadata": {},
   "outputs": [
    {
     "data": {
      "text/plain": [
       "cole_bilingue\n",
       "N    436\n",
       "S      7\n",
       "dtype: int64"
      ]
     },
     "execution_count": 1387,
     "metadata": {},
     "output_type": "execute_result"
    }
   ],
   "source": [
    "biling_punt_ing.groupby(\"cole_bilingue\").size()\n"
   ]
  },
  {
   "cell_type": "markdown",
   "metadata": {},
   "source": [
    "Pero luego de revisar los datos, no sería correcto afirmarlo ya que la muestra de los estudiantes de colegios bilingüe es muy pequeña para considerarse representativa."
   ]
  },
  {
   "cell_type": "markdown",
   "metadata": {},
   "source": [
    "- Comparación puntaje globar y acceso a computador familiar"
   ]
  },
  {
   "cell_type": "code",
   "execution_count": 1388,
   "metadata": {},
   "outputs": [
    {
     "data": {
      "text/html": [
       "<div>\n",
       "<style scoped>\n",
       "    .dataframe tbody tr th:only-of-type {\n",
       "        vertical-align: middle;\n",
       "    }\n",
       "\n",
       "    .dataframe tbody tr th {\n",
       "        vertical-align: top;\n",
       "    }\n",
       "\n",
       "    .dataframe thead th {\n",
       "        text-align: right;\n",
       "    }\n",
       "</style>\n",
       "<table border=\"1\" class=\"dataframe\">\n",
       "  <thead>\n",
       "    <tr style=\"text-align: right;\">\n",
       "      <th></th>\n",
       "      <th>punt_global</th>\n",
       "    </tr>\n",
       "    <tr>\n",
       "      <th>fami_tienecomputador</th>\n",
       "      <th></th>\n",
       "    </tr>\n",
       "  </thead>\n",
       "  <tbody>\n",
       "    <tr>\n",
       "      <th>No</th>\n",
       "      <td>239.542553</td>\n",
       "    </tr>\n",
       "    <tr>\n",
       "      <th>Si</th>\n",
       "      <td>263.32549</td>\n",
       "    </tr>\n",
       "  </tbody>\n",
       "</table>\n",
       "</div>"
      ],
      "text/plain": [
       "                     punt_global\n",
       "fami_tienecomputador            \n",
       "No                    239.542553\n",
       "Si                     263.32549"
      ]
     },
     "execution_count": 1388,
     "metadata": {},
     "output_type": "execute_result"
    }
   ],
   "source": [
    "compu_global=datos[[\"fami_tienecomputador\",\"punt_global\"]]\n",
    "\n",
    "compu_global.loc[:,\"punt_global\"]=compu_global.loc[:,\"punt_global\"].astype(int)\n",
    "compu_global.groupby(\"fami_tienecomputador\").mean()\n"
   ]
  },
  {
   "cell_type": "code",
   "execution_count": 1389,
   "metadata": {},
   "outputs": [
    {
     "data": {
      "text/plain": [
       "<Axes: ylabel='Frequency'>"
      ]
     },
     "execution_count": 1389,
     "metadata": {},
     "output_type": "execute_result"
    },
    {
     "data": {
      "image/png": "[encoded data removed]",
      "text/plain": [
       "<Figure size 640x480 with 1 Axes>"
      ]
     },
     "metadata": {},
     "output_type": "display_data"
    }
   ],
   "source": [
    "compu_global_mask=compu_global[\"fami_tienecomputador\"]==\"Si\"\n",
    "compu_global[compu_global_mask][\"punt_global\"].plot(kind='hist')\n",
    "compu_global[~compu_global_mask][\"punt_global\"].plot(kind='hist')"
   ]
  },
  {
   "cell_type": "markdown",
   "metadata": {},
   "source": [
    "Análisis"
   ]
  }
 ],
 "metadata": {
  "kernelspec": {
   "display_name": "Python 3",
   "language": "python",
   "name": "python3"
  },
  "language_info": {
   "codemirror_mode": {
    "name": "ipython",
    "version": 3
   },
   "file_extension": ".py",
   "mimetype": "text/x-python",
   "name": "python",
   "nbconvert_exporter": "python",
   "pygments_lexer": "ipython3",
   "version": "3.9.6"
  },
  "orig_nbformat": 4
 },
 "nbformat": 4,
 "nbformat_minor": 2
}
