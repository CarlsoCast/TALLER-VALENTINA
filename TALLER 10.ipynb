{
 "cells": [
  {
   "cell_type": "markdown",
   "metadata": {},
   "source": [
    "UNIDAD 10 - Dataframes con pandas   "
   ]
  },
  {
   "cell_type": "markdown",
   "metadata": {},
   "source": [
    "1. Cargue el dataset"
   ]
  },
  {
   "cell_type": "code",
   "execution_count": 347,
   "metadata": {},
   "outputs": [
    {
     "name": "stderr",
     "output_type": "stream",
     "text": [
      "WARNING:root:Requests made without an app_token will be subject to strict throttling limits.\n"
     ]
    },
    {
     "data": {
      "text/html": [
       "<div>\n",
       "<style scoped>\n",
       "    .dataframe tbody tr th:only-of-type {\n",
       "        vertical-align: middle;\n",
       "    }\n",
       "\n",
       "    .dataframe tbody tr th {\n",
       "        vertical-align: top;\n",
       "    }\n",
       "\n",
       "    .dataframe thead th {\n",
       "        text-align: right;\n",
       "    }\n",
       "</style>\n",
       "<table border=\"1\" class=\"dataframe\">\n",
       "  <thead>\n",
       "    <tr style=\"text-align: right;\">\n",
       "      <th></th>\n",
       "      <th>valor</th>\n",
       "      <th>unidad</th>\n",
       "      <th>vigenciadesde</th>\n",
       "      <th>vigenciahasta</th>\n",
       "    </tr>\n",
       "  </thead>\n",
       "  <tbody>\n",
       "    <tr>\n",
       "      <th>0</th>\n",
       "      <td>4761.64</td>\n",
       "      <td>COP</td>\n",
       "      <td>2022-12-22T00:00:00.000</td>\n",
       "      <td>2022-12-22T00:00:00.000</td>\n",
       "    </tr>\n",
       "    <tr>\n",
       "      <th>1</th>\n",
       "      <td>4781.28</td>\n",
       "      <td>COP</td>\n",
       "      <td>2022-12-20T00:00:00.000</td>\n",
       "      <td>2022-12-20T00:00:00.000</td>\n",
       "    </tr>\n",
       "    <tr>\n",
       "      <th>2</th>\n",
       "      <td>4802.48</td>\n",
       "      <td>COP</td>\n",
       "      <td>2022-12-17T00:00:00.000</td>\n",
       "      <td>2022-12-19T00:00:00.000</td>\n",
       "    </tr>\n",
       "    <tr>\n",
       "      <th>3</th>\n",
       "      <td>4836.24</td>\n",
       "      <td>COP</td>\n",
       "      <td>2022-12-13T00:00:00.000</td>\n",
       "      <td>2022-12-13T00:00:00.000</td>\n",
       "    </tr>\n",
       "    <tr>\n",
       "      <th>4</th>\n",
       "      <td>4815.99</td>\n",
       "      <td>COP</td>\n",
       "      <td>2022-12-10T00:00:00.000</td>\n",
       "      <td>2022-12-12T00:00:00.000</td>\n",
       "    </tr>\n",
       "    <tr>\n",
       "      <th>...</th>\n",
       "      <td>...</td>\n",
       "      <td>...</td>\n",
       "      <td>...</td>\n",
       "      <td>...</td>\n",
       "    </tr>\n",
       "    <tr>\n",
       "      <th>7593</th>\n",
       "      <td>4195.93</td>\n",
       "      <td>COP</td>\n",
       "      <td>2023-07-07T00:00:00.000</td>\n",
       "      <td>2023-07-07T00:00:00.000</td>\n",
       "    </tr>\n",
       "    <tr>\n",
       "      <th>7594</th>\n",
       "      <td>4189.96</td>\n",
       "      <td>COP</td>\n",
       "      <td>2023-07-08T00:00:00.000</td>\n",
       "      <td>2023-07-10T00:00:00.000</td>\n",
       "    </tr>\n",
       "    <tr>\n",
       "      <th>7595</th>\n",
       "      <td>4154.06</td>\n",
       "      <td>COP</td>\n",
       "      <td>2023-07-11T00:00:00.000</td>\n",
       "      <td>2023-07-11T00:00:00.000</td>\n",
       "    </tr>\n",
       "    <tr>\n",
       "      <th>7596</th>\n",
       "      <td>4193.59</td>\n",
       "      <td>COP</td>\n",
       "      <td>2023-07-12T00:00:00.000</td>\n",
       "      <td>2023-07-12T00:00:00.000</td>\n",
       "    </tr>\n",
       "    <tr>\n",
       "      <th>7597</th>\n",
       "      <td>4128.67</td>\n",
       "      <td>COP</td>\n",
       "      <td>2023-07-13T00:00:00.000</td>\n",
       "      <td>2023-07-13T00:00:00.000</td>\n",
       "    </tr>\n",
       "  </tbody>\n",
       "</table>\n",
       "<p>7598 rows × 4 columns</p>\n",
       "</div>"
      ],
      "text/plain": [
       "        valor unidad            vigenciadesde            vigenciahasta\n",
       "0     4761.64    COP  2022-12-22T00:00:00.000  2022-12-22T00:00:00.000\n",
       "1     4781.28    COP  2022-12-20T00:00:00.000  2022-12-20T00:00:00.000\n",
       "2     4802.48    COP  2022-12-17T00:00:00.000  2022-12-19T00:00:00.000\n",
       "3     4836.24    COP  2022-12-13T00:00:00.000  2022-12-13T00:00:00.000\n",
       "4     4815.99    COP  2022-12-10T00:00:00.000  2022-12-12T00:00:00.000\n",
       "...       ...    ...                      ...                      ...\n",
       "7593  4195.93    COP  2023-07-07T00:00:00.000  2023-07-07T00:00:00.000\n",
       "7594  4189.96    COP  2023-07-08T00:00:00.000  2023-07-10T00:00:00.000\n",
       "7595  4154.06    COP  2023-07-11T00:00:00.000  2023-07-11T00:00:00.000\n",
       "7596  4193.59    COP  2023-07-12T00:00:00.000  2023-07-12T00:00:00.000\n",
       "7597  4128.67    COP  2023-07-13T00:00:00.000  2023-07-13T00:00:00.000\n",
       "\n",
       "[7598 rows x 4 columns]"
      ]
     },
     "execution_count": 347,
     "metadata": {},
     "output_type": "execute_result"
    }
   ],
   "source": [
    "import pandas as pd\n",
    "import matplotlib\n",
    "from sodapy import Socrata\n",
    "client = Socrata('www.datos.gov.co', None)\n",
    "results = client.get('32sa-8pi3', limit=8000)\n",
    "df = pd.DataFrame(results)\n",
    "df = df.dropna()\n",
    "df"
   ]
  },
  {
   "cell_type": "code",
   "execution_count": 348,
   "metadata": {},
   "outputs": [
    {
     "name": "stdout",
     "output_type": "stream",
     "text": [
      "<class 'pandas.core.frame.DataFrame'>\n",
      "RangeIndex: 7598 entries, 0 to 7597\n",
      "Data columns (total 4 columns):\n",
      " #   Column         Non-Null Count  Dtype \n",
      "---  ------         --------------  ----- \n",
      " 0   valor          7598 non-null   object\n",
      " 1   unidad         7598 non-null   object\n",
      " 2   vigenciadesde  7598 non-null   object\n",
      " 3   vigenciahasta  7598 non-null   object\n",
      "dtypes: object(4)\n",
      "memory usage: 237.6+ KB\n"
     ]
    }
   ],
   "source": [
    "df.loc[:,\"valor\"]=df.loc[:,\"valor\"].astype(float)\n",
    "df.info() # Analizar el data set"
   ]
  },
  {
   "cell_type": "markdown",
   "metadata": {},
   "source": [
    "Como se puede analizar solo la columna valor es de tipo numérico, es por ello que los calculos solo se realizarán sobre ella"
   ]
  },
  {
   "cell_type": "markdown",
   "metadata": {},
   "source": [
    "2. Calculos\n",
    "\n",
    "Para realizar este ejercicio se utilizan los módulos incluidos en pandas como \"mean\", \"max\" y \"std\" entre otros. Notar que se selecciona la columna valor, de no ser así arroja un error ya que el resto de la información no es numérica"
   ]
  },
  {
   "cell_type": "markdown",
   "metadata": {},
   "source": [
    "3. Presentar el resumen de los datos numéricos"
   ]
  },
  {
   "cell_type": "code",
   "execution_count": 349,
   "metadata": {},
   "outputs": [
    {
     "name": "stdout",
     "output_type": "stream",
     "text": [
      "Resumen de calculos\n",
      "La media del TRM es: 2215.846\n",
      "La mediana del TRM es: 2164.775\n",
      "La desviación estandar de la TRM es: 951.714\n",
      "El máximo de la media para la TRM es: 5061.21\n",
      "El mínimo del TRM es: 620.62\n",
      "El rango del TRM es: 4440.59\n"
     ]
    }
   ],
   "source": [
    "print(\"Resumen de calculos\")\n",
    "print(\"La media del TRM es: \"+str(df[\"valor\"].mean().__round__(3))) \n",
    "print(\"La mediana del TRM es: \"+str(df[\"valor\"].median().__round__(3)))\n",
    "print(\"La desviación estandar de la TRM es: \"+str(df[\"valor\"].std().__round__(3)))\n",
    "print(\"El máximo de la media para la TRM es: \"+str(df[\"valor\"].max().__round__(3)))\n",
    "print(\"El mínimo del TRM es: \"+str(df[\"valor\"].min().__round__(3)))\n",
    "print(\"El rango del TRM es: \"+str((df[\"valor\"].max()-df[\"valor\"].min()).__round__(3)))"
   ]
  },
  {
   "cell_type": "markdown",
   "metadata": {},
   "source": [
    "4 Información general del dataset"
   ]
  },
  {
   "cell_type": "code",
   "execution_count": 350,
   "metadata": {},
   "outputs": [
    {
     "data": {
      "text/html": [
       "<div>\n",
       "<style scoped>\n",
       "    .dataframe tbody tr th:only-of-type {\n",
       "        vertical-align: middle;\n",
       "    }\n",
       "\n",
       "    .dataframe tbody tr th {\n",
       "        vertical-align: top;\n",
       "    }\n",
       "\n",
       "    .dataframe thead th {\n",
       "        text-align: right;\n",
       "    }\n",
       "</style>\n",
       "<table border=\"1\" class=\"dataframe\">\n",
       "  <thead>\n",
       "    <tr style=\"text-align: right;\">\n",
       "      <th></th>\n",
       "      <th>valor</th>\n",
       "      <th>unidad</th>\n",
       "      <th>vigenciadesde</th>\n",
       "      <th>vigenciahasta</th>\n",
       "    </tr>\n",
       "  </thead>\n",
       "  <tbody>\n",
       "    <tr>\n",
       "      <th>count</th>\n",
       "      <td>7598.00</td>\n",
       "      <td>7598</td>\n",
       "      <td>7598</td>\n",
       "      <td>7598</td>\n",
       "    </tr>\n",
       "    <tr>\n",
       "      <th>unique</th>\n",
       "      <td>7410.00</td>\n",
       "      <td>1</td>\n",
       "      <td>7598</td>\n",
       "      <td>7598</td>\n",
       "    </tr>\n",
       "    <tr>\n",
       "      <th>top</th>\n",
       "      <td>1797.68</td>\n",
       "      <td>COP</td>\n",
       "      <td>2022-12-22T00:00:00.000</td>\n",
       "      <td>2022-12-22T00:00:00.000</td>\n",
       "    </tr>\n",
       "    <tr>\n",
       "      <th>freq</th>\n",
       "      <td>4.00</td>\n",
       "      <td>7598</td>\n",
       "      <td>1</td>\n",
       "      <td>1</td>\n",
       "    </tr>\n",
       "  </tbody>\n",
       "</table>\n",
       "</div>"
      ],
      "text/plain": [
       "          valor unidad            vigenciadesde            vigenciahasta\n",
       "count   7598.00   7598                     7598                     7598\n",
       "unique  7410.00      1                     7598                     7598\n",
       "top     1797.68    COP  2022-12-22T00:00:00.000  2022-12-22T00:00:00.000\n",
       "freq       4.00   7598                        1                        1"
      ]
     },
     "execution_count": 350,
     "metadata": {},
     "output_type": "execute_result"
    }
   ],
   "source": [
    "df.describe() #Descripción de la columna \"valor\" con el modulo \"describe\" de pandas"
   ]
  },
  {
   "cell_type": "markdown",
   "metadata": {},
   "source": [
    "5 Representaciones graficas de la información"
   ]
  },
  {
   "cell_type": "code",
   "execution_count": 351,
   "metadata": {},
   "outputs": [
    {
     "data": {
      "image/png": "[encoded data removed]",
      "text/plain": [
       "<Figure size 640x480 with 1 Axes>"
      ]
     },
     "metadata": {},
     "output_type": "display_data"
    }
   ],
   "source": [
    "import matplotlib.pyplot as plt\n",
    "\n",
    "data = df[\"valor\"]\n",
    "\n",
    "fig, ax = plt.subplots()\n",
    "ax.boxplot(data)\n",
    "\n",
    "ax.set_title('Box Plot de la TRM')\n",
    "ax.set_xlabel('TRM')\n",
    "ax.set_ylabel('COP')\n",
    "\n",
    "plt.show()"
   ]
  },
  {
   "cell_type": "markdown",
   "metadata": {},
   "source": [
    "Analisis"
   ]
  },
  {
   "cell_type": "code",
   "execution_count": 352,
   "metadata": {},
   "outputs": [
    {
     "data": {
      "image/png": "[encoded data removed]",
      "text/plain": [
       "<Figure size 640x480 with 1 Axes>"
      ]
     },
     "metadata": {},
     "output_type": "display_data"
    }
   ],
   "source": [
    "data = df[\"valor\"]\n",
    "\n",
    "fig, ax = plt.subplots()\n",
    "ax.hist(data, bins=100)\n",
    "\n",
    "ax.set_title('Histograma del valor TRM')\n",
    "ax.set_xlabel('Valor en COP')\n",
    "ax.set_ylabel('Frecuencia')\n",
    "\n",
    "plt.show()"
   ]
  },
  {
   "cell_type": "markdown",
   "metadata": {},
   "source": [
    "Análisis"
   ]
  },
  {
   "cell_type": "code",
   "execution_count": 353,
   "metadata": {},
   "outputs": [
    {
     "name": "stderr",
     "output_type": "stream",
     "text": [
      "WARNING:root:Requests made without an app_token will be subject to strict throttling limits.\n"
     ]
    },
    {
     "data": {
      "text/html": [
       "<div>\n",
       "<style scoped>\n",
       "    .dataframe tbody tr th:only-of-type {\n",
       "        vertical-align: middle;\n",
       "    }\n",
       "\n",
       "    .dataframe tbody tr th {\n",
       "        vertical-align: top;\n",
       "    }\n",
       "\n",
       "    .dataframe thead th {\n",
       "        text-align: right;\n",
       "    }\n",
       "</style>\n",
       "<table border=\"1\" class=\"dataframe\">\n",
       "  <thead>\n",
       "    <tr style=\"text-align: right;\">\n",
       "      <th></th>\n",
       "      <th>fami_tienecomputador</th>\n",
       "      <th>cole_bilingue</th>\n",
       "      <th>punt_ingles</th>\n",
       "      <th>punt_global</th>\n",
       "    </tr>\n",
       "  </thead>\n",
       "  <tbody>\n",
       "    <tr>\n",
       "      <th>1</th>\n",
       "      <td>Si</td>\n",
       "      <td>N</td>\n",
       "      <td>71</td>\n",
       "      <td>339</td>\n",
       "    </tr>\n",
       "    <tr>\n",
       "      <th>2</th>\n",
       "      <td>Si</td>\n",
       "      <td>N</td>\n",
       "      <td>71</td>\n",
       "      <td>339</td>\n",
       "    </tr>\n",
       "    <tr>\n",
       "      <th>5</th>\n",
       "      <td>No</td>\n",
       "      <td>N</td>\n",
       "      <td>46</td>\n",
       "      <td>199</td>\n",
       "    </tr>\n",
       "    <tr>\n",
       "      <th>6</th>\n",
       "      <td>No</td>\n",
       "      <td>N</td>\n",
       "      <td>46</td>\n",
       "      <td>199</td>\n",
       "    </tr>\n",
       "    <tr>\n",
       "      <th>7</th>\n",
       "      <td>Si</td>\n",
       "      <td>N</td>\n",
       "      <td>59</td>\n",
       "      <td>272</td>\n",
       "    </tr>\n",
       "    <tr>\n",
       "      <th>...</th>\n",
       "      <td>...</td>\n",
       "      <td>...</td>\n",
       "      <td>...</td>\n",
       "      <td>...</td>\n",
       "    </tr>\n",
       "    <tr>\n",
       "      <th>1493</th>\n",
       "      <td>Si</td>\n",
       "      <td>N</td>\n",
       "      <td>57</td>\n",
       "      <td>279</td>\n",
       "    </tr>\n",
       "    <tr>\n",
       "      <th>1494</th>\n",
       "      <td>Si</td>\n",
       "      <td>N</td>\n",
       "      <td>43</td>\n",
       "      <td>245</td>\n",
       "    </tr>\n",
       "    <tr>\n",
       "      <th>1496</th>\n",
       "      <td>No</td>\n",
       "      <td>N</td>\n",
       "      <td>36</td>\n",
       "      <td>249</td>\n",
       "    </tr>\n",
       "    <tr>\n",
       "      <th>1497</th>\n",
       "      <td>No</td>\n",
       "      <td>N</td>\n",
       "      <td>36</td>\n",
       "      <td>249</td>\n",
       "    </tr>\n",
       "    <tr>\n",
       "      <th>1498</th>\n",
       "      <td>No</td>\n",
       "      <td>N</td>\n",
       "      <td>45</td>\n",
       "      <td>185</td>\n",
       "    </tr>\n",
       "  </tbody>\n",
       "</table>\n",
       "<p>682 rows × 4 columns</p>\n",
       "</div>"
      ],
      "text/plain": [
       "     fami_tienecomputador cole_bilingue punt_ingles punt_global\n",
       "1                      Si             N          71         339\n",
       "2                      Si             N          71         339\n",
       "5                      No             N          46         199\n",
       "6                      No             N          46         199\n",
       "7                      Si             N          59         272\n",
       "...                   ...           ...         ...         ...\n",
       "1493                   Si             N          57         279\n",
       "1494                   Si             N          43         245\n",
       "1496                   No             N          36         249\n",
       "1497                   No             N          36         249\n",
       "1498                   No             N          45         185\n",
       "\n",
       "[682 rows x 4 columns]"
      ]
     },
     "execution_count": 353,
     "metadata": {},
     "output_type": "execute_result"
    }
   ],
   "source": [
    "from sodapy import Socrata\n",
    "import json\n",
    "client = Socrata('www.datos.gov.co', None)\n",
    "results = client.get('kgxf-xxbe', limit=1500)\n",
    "datos = pd.DataFrame(results)\n",
    "datos = datos[[\"fami_tienecomputador\",\"cole_bilingue\",\"punt_ingles\",\"punt_global\"]]\n",
    "datos = datos.dropna()\n",
    "datos"
   ]
  },
  {
   "cell_type": "markdown",
   "metadata": {},
   "source": [
    "Resultados de las pruebas de Saber 11 del 2010 asl 2021"
   ]
  },
  {
   "cell_type": "markdown",
   "metadata": {},
   "source": [
    "- Comparación colegio bilingüe y puntaje inglés"
   ]
  },
  {
   "cell_type": "code",
   "execution_count": 354,
   "metadata": {},
   "outputs": [
    {
     "data": {
      "text/html": [
       "<div>\n",
       "<style scoped>\n",
       "    .dataframe tbody tr th:only-of-type {\n",
       "        vertical-align: middle;\n",
       "    }\n",
       "\n",
       "    .dataframe tbody tr th {\n",
       "        vertical-align: top;\n",
       "    }\n",
       "\n",
       "    .dataframe thead th {\n",
       "        text-align: right;\n",
       "    }\n",
       "</style>\n",
       "<table border=\"1\" class=\"dataframe\">\n",
       "  <thead>\n",
       "    <tr style=\"text-align: right;\">\n",
       "      <th></th>\n",
       "      <th>punt_ingles</th>\n",
       "    </tr>\n",
       "    <tr>\n",
       "      <th>cole_bilingue</th>\n",
       "      <th></th>\n",
       "    </tr>\n",
       "  </thead>\n",
       "  <tbody>\n",
       "    <tr>\n",
       "      <th>N</th>\n",
       "      <td>49.80568</td>\n",
       "    </tr>\n",
       "    <tr>\n",
       "      <th>S</th>\n",
       "      <td>73.846154</td>\n",
       "    </tr>\n",
       "  </tbody>\n",
       "</table>\n",
       "</div>"
      ],
      "text/plain": [
       "              punt_ingles\n",
       "cole_bilingue            \n",
       "N                49.80568\n",
       "S               73.846154"
      ]
     },
     "execution_count": 354,
     "metadata": {},
     "output_type": "execute_result"
    }
   ],
   "source": [
    "biling_punt_ing=datos[[\"cole_bilingue\",\"punt_ingles\"]]\n",
    "\n",
    "biling_punt_ing.loc[:,\"punt_ingles\"]=biling_punt_ing.loc[:,\"punt_ingles\"].astype(int)\n",
    "biling_punt_ing.groupby(\"cole_bilingue\").mean()"
   ]
  },
  {
   "cell_type": "markdown",
   "metadata": {},
   "source": [
    "Mirando los datos uno podría concluir que los estudiantes de colegios bilingüe tienden a un mejor puntaje en la parte de inglés"
   ]
  },
  {
   "cell_type": "code",
   "execution_count": 355,
   "metadata": {},
   "outputs": [
    {
     "data": {
      "text/html": [
       "<div>\n",
       "<style scoped>\n",
       "    .dataframe tbody tr th:only-of-type {\n",
       "        vertical-align: middle;\n",
       "    }\n",
       "\n",
       "    .dataframe tbody tr th {\n",
       "        vertical-align: top;\n",
       "    }\n",
       "\n",
       "    .dataframe thead th {\n",
       "        text-align: right;\n",
       "    }\n",
       "</style>\n",
       "<table border=\"1\" class=\"dataframe\">\n",
       "  <thead>\n",
       "    <tr style=\"text-align: right;\">\n",
       "      <th></th>\n",
       "      <th>0</th>\n",
       "    </tr>\n",
       "    <tr>\n",
       "      <th>cole_bilingue</th>\n",
       "      <th></th>\n",
       "    </tr>\n",
       "  </thead>\n",
       "  <tbody>\n",
       "    <tr>\n",
       "      <th>N</th>\n",
       "      <td>669</td>\n",
       "    </tr>\n",
       "    <tr>\n",
       "      <th>S</th>\n",
       "      <td>13</td>\n",
       "    </tr>\n",
       "  </tbody>\n",
       "</table>\n",
       "</div>"
      ],
      "text/plain": [
       "                 0\n",
       "cole_bilingue     \n",
       "N              669\n",
       "S               13"
      ]
     },
     "execution_count": 355,
     "metadata": {},
     "output_type": "execute_result"
    }
   ],
   "source": [
    "biling_punt_ing.groupby(\"cole_bilingue\").size().to_frame()\n"
   ]
  },
  {
   "cell_type": "markdown",
   "metadata": {},
   "source": [
    "Pero luego de revisar los datos, no sería correcto afirmarlo ya que la muestra de los estudiantes de colegios bilingüe es muy pequeña para considerarse representativa."
   ]
  },
  {
   "cell_type": "markdown",
   "metadata": {},
   "source": [
    "- Comparación puntaje globar y acceso a computador familiar"
   ]
  },
  {
   "cell_type": "code",
   "execution_count": 356,
   "metadata": {},
   "outputs": [
    {
     "data": {
      "text/html": [
       "<div>\n",
       "<style scoped>\n",
       "    .dataframe tbody tr th:only-of-type {\n",
       "        vertical-align: middle;\n",
       "    }\n",
       "\n",
       "    .dataframe tbody tr th {\n",
       "        vertical-align: top;\n",
       "    }\n",
       "\n",
       "    .dataframe thead th {\n",
       "        text-align: right;\n",
       "    }\n",
       "</style>\n",
       "<table border=\"1\" class=\"dataframe\">\n",
       "  <thead>\n",
       "    <tr style=\"text-align: right;\">\n",
       "      <th></th>\n",
       "      <th>punt_global</th>\n",
       "    </tr>\n",
       "    <tr>\n",
       "      <th>fami_tienecomputador</th>\n",
       "      <th></th>\n",
       "    </tr>\n",
       "  </thead>\n",
       "  <tbody>\n",
       "    <tr>\n",
       "      <th>No</th>\n",
       "      <td>233.04</td>\n",
       "    </tr>\n",
       "    <tr>\n",
       "      <th>Si</th>\n",
       "      <td>265.914005</td>\n",
       "    </tr>\n",
       "  </tbody>\n",
       "</table>\n",
       "</div>"
      ],
      "text/plain": [
       "                     punt_global\n",
       "fami_tienecomputador            \n",
       "No                        233.04\n",
       "Si                    265.914005"
      ]
     },
     "execution_count": 356,
     "metadata": {},
     "output_type": "execute_result"
    }
   ],
   "source": [
    "compu_global=datos[[\"fami_tienecomputador\",\"punt_global\"]]\n",
    "\n",
    "compu_global.loc[:,\"punt_global\"]=compu_global.loc[:,\"punt_global\"].astype(int)\n",
    "compu_global.groupby(\"fami_tienecomputador\").mean()\n"
   ]
  },
  {
   "cell_type": "code",
   "execution_count": 357,
   "metadata": {},
   "outputs": [
    {
     "data": {
      "text/plain": [
       "<Axes: ylabel='Frequency'>"
      ]
     },
     "execution_count": 357,
     "metadata": {},
     "output_type": "execute_result"
    },
    {
     "data": {
      "image/png": "[encoded data removed]",
      "text/plain": [
       "<Figure size 640x480 with 1 Axes>"
      ]
     },
     "metadata": {},
     "output_type": "display_data"
    }
   ],
   "source": [
    "compu_global_mask=compu_global[\"fami_tienecomputador\"]==\"Si\"\n",
    "compu_global[compu_global_mask][\"punt_global\"].plot(kind='hist')\n",
    "compu_global[~compu_global_mask][\"punt_global\"].plot(kind='hist')"
   ]
  },
  {
   "cell_type": "markdown",
   "metadata": {},
   "source": [
    "Análisis"
   ]
  }
 ],
 "metadata": {
  "kernelspec": {
   "display_name": "Python 3",
   "language": "python",
   "name": "python3"
  },
  "language_info": {
   "codemirror_mode": {
    "name": "ipython",
    "version": 3
   },
   "file_extension": ".py",
   "mimetype": "text/x-python",
   "name": "python",
   "nbconvert_exporter": "python",
   "pygments_lexer": "ipython3",
   "version": "3.9.6"
  },
  "orig_nbformat": 4
 },
 "nbformat": 4,
 "nbformat_minor": 2
}
